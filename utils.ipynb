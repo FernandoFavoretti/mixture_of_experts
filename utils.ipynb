{
 "cells": [
  {
   "cell_type": "code",
   "execution_count": 59,
   "metadata": {},
   "outputs": [],
   "source": [
    "def treino_teste_validacao(X,y, frac_train, frac_test):\n",
    "    import pandas as pd\n",
    "    #transforma em DataFrames para realizar a divisao\n",
    "    X_all = pd.DataFrame(X)\n",
    "    y_all = pd.DataFrame(y)\n",
    "\n",
    "    #Armazena quantos vamos querer guardar\n",
    "    number_samples_in_test = int(frac_test*X_all.shape[0])\n",
    "\n",
    "    #Divide treino\n",
    "    X_train = X_all.sample(frac=frac_train,random_state=42)\n",
    "    y_train = y_all.iloc[X_train.index]\n",
    "    \n",
    "    #Divide teste\n",
    "    X_all = X_all.drop(X_train.index) \n",
    "    X_test = X_all.sample(number_samples_in_test,random_state=42)\n",
    "    y_test = y_all.iloc[X_test.index]\n",
    "\n",
    "    #O resto vira validacao\n",
    "    X_all = X_all.drop(X_test.index) \n",
    "    X_val = X_all\n",
    "    y_val = y_all.iloc[X_all.index]\n",
    "\n",
    "    print('==============')\n",
    "    print(\"Tamanho total {}\".format(X.shape[0]))\n",
    "    print(\"Tamanho treino {}\".format(X_train.shape[0]))\n",
    "    print(\"Tamanho teste {}\".format(X_test.shape[0]))\n",
    "    print(\"Tamanho validacao {}\".format(X_val.shape[0]))\n",
    "\n",
    "\n",
    "    \n",
    "    print('==============')\n",
    "    return X_train,y_train,X_test,y_test,X_val,y_val"
   ]
  }
 ],
 "metadata": {
  "kernelspec": {
   "display_name": "Python 3",
   "language": "python",
   "name": "python3"
  },
  "language_info": {
   "codemirror_mode": {
    "name": "ipython",
    "version": 3
   },
   "file_extension": ".py",
   "mimetype": "text/x-python",
   "name": "python",
   "nbconvert_exporter": "python",
   "pygments_lexer": "ipython3",
   "version": "3.6.4"
  }
 },
 "nbformat": 4,
 "nbformat_minor": 2
}
