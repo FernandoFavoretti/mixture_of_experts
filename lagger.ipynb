{
 "cells": [
  {
   "cell_type": "code",
   "execution_count": 1,
   "metadata": {},
   "outputs": [],
   "source": [
    "import pandas as pd"
   ]
  },
  {
   "cell_type": "code",
   "execution_count": 2,
   "metadata": {},
   "outputs": [],
   "source": [
    "df = pd.read_csv('data/treinamento-1.txt', header=None)"
   ]
  },
  {
   "cell_type": "code",
   "execution_count": 3,
   "metadata": {},
   "outputs": [],
   "source": [
    "def create_lag(df, num_lags):\n",
    "    #cria lag\n",
    "    #o lag criado gera espacos vazios na tabela\n",
    "    df = pd.concat([df.shift(lag) for lag in range(0,num_lags+1)],axis=1)\n",
    "    #apagamos os espacos vazioes\n",
    "    df = df.dropna()\n",
    "    #damos nomes com inteiros para as colunas possibilitando ordenacao\n",
    "    df.columns = [int(lag) for lag in range(0,num_lags+1)]\n",
    "    #invertemos a ordem dos nomes\n",
    "    df.columns = df.columns[::-1]\n",
    "    #invertemos a ordem das colunas\n",
    "    df = df[sorted(df.columns.values)]\n",
    "    #voltamos as colunas para string para podermos renomear e atribuimos a ultima coluna o nome de y\n",
    "    df.columns = df.columns.astype(str)\n",
    "    df.columns.values[-1] = 'y'\n",
    "    return df"
   ]
  },
  {
   "cell_type": "code",
   "execution_count": 4,
   "metadata": {},
   "outputs": [],
   "source": [
    "teste = create_lag(df,10)"
   ]
  },
  {
   "cell_type": "code",
   "execution_count": 6,
   "metadata": {},
   "outputs": [
    {
     "data": {
      "text/html": [
       "<div>\n",
       "<style scoped>\n",
       "    .dataframe tbody tr th:only-of-type {\n",
       "        vertical-align: middle;\n",
       "    }\n",
       "\n",
       "    .dataframe tbody tr th {\n",
       "        vertical-align: top;\n",
       "    }\n",
       "\n",
       "    .dataframe thead th {\n",
       "        text-align: right;\n",
       "    }\n",
       "</style>\n",
       "<table border=\"1\" class=\"dataframe\">\n",
       "  <thead>\n",
       "    <tr style=\"text-align: right;\">\n",
       "      <th></th>\n",
       "      <th>0</th>\n",
       "      <th>1</th>\n",
       "      <th>2</th>\n",
       "      <th>3</th>\n",
       "      <th>4</th>\n",
       "      <th>5</th>\n",
       "      <th>6</th>\n",
       "      <th>7</th>\n",
       "      <th>8</th>\n",
       "      <th>9</th>\n",
       "      <th>y</th>\n",
       "    </tr>\n",
       "  </thead>\n",
       "  <tbody>\n",
       "    <tr>\n",
       "      <th>10</th>\n",
       "      <td>0.534824</td>\n",
       "      <td>0.427926</td>\n",
       "      <td>0.633759</td>\n",
       "      <td>0.196700</td>\n",
       "      <td>0.922618</td>\n",
       "      <td>-0.702448</td>\n",
       "      <td>0.013135</td>\n",
       "      <td>0.999655</td>\n",
       "      <td>-0.998620</td>\n",
       "      <td>-0.994484</td>\n",
       "      <td>-0.977998</td>\n",
       "    </tr>\n",
       "    <tr>\n",
       "      <th>11</th>\n",
       "      <td>0.427926</td>\n",
       "      <td>0.633759</td>\n",
       "      <td>0.196700</td>\n",
       "      <td>0.922618</td>\n",
       "      <td>-0.702448</td>\n",
       "      <td>0.013135</td>\n",
       "      <td>0.999655</td>\n",
       "      <td>-0.998620</td>\n",
       "      <td>-0.994484</td>\n",
       "      <td>-0.977998</td>\n",
       "      <td>-0.912959</td>\n",
       "    </tr>\n",
       "    <tr>\n",
       "      <th>12</th>\n",
       "      <td>0.633759</td>\n",
       "      <td>0.196700</td>\n",
       "      <td>0.922618</td>\n",
       "      <td>-0.702448</td>\n",
       "      <td>0.013135</td>\n",
       "      <td>0.999655</td>\n",
       "      <td>-0.998620</td>\n",
       "      <td>-0.994484</td>\n",
       "      <td>-0.977998</td>\n",
       "      <td>-0.912959</td>\n",
       "      <td>-0.666990</td>\n",
       "    </tr>\n",
       "    <tr>\n",
       "      <th>13</th>\n",
       "      <td>0.196700</td>\n",
       "      <td>0.922618</td>\n",
       "      <td>-0.702448</td>\n",
       "      <td>0.013135</td>\n",
       "      <td>0.999655</td>\n",
       "      <td>-0.998620</td>\n",
       "      <td>-0.994484</td>\n",
       "      <td>-0.977998</td>\n",
       "      <td>-0.912959</td>\n",
       "      <td>-0.666990</td>\n",
       "      <td>0.110249</td>\n",
       "    </tr>\n",
       "    <tr>\n",
       "      <th>14</th>\n",
       "      <td>0.922618</td>\n",
       "      <td>-0.702448</td>\n",
       "      <td>0.013135</td>\n",
       "      <td>0.999655</td>\n",
       "      <td>-0.998620</td>\n",
       "      <td>-0.994484</td>\n",
       "      <td>-0.977998</td>\n",
       "      <td>-0.912959</td>\n",
       "      <td>-0.666990</td>\n",
       "      <td>0.110249</td>\n",
       "      <td>0.975690</td>\n",
       "    </tr>\n",
       "  </tbody>\n",
       "</table>\n",
       "</div>"
      ],
      "text/plain": [
       "           0         1         2         3         4         5         6  \\\n",
       "10  0.534824  0.427926  0.633759  0.196700  0.922618 -0.702448  0.013135   \n",
       "11  0.427926  0.633759  0.196700  0.922618 -0.702448  0.013135  0.999655   \n",
       "12  0.633759  0.196700  0.922618 -0.702448  0.013135  0.999655 -0.998620   \n",
       "13  0.196700  0.922618 -0.702448  0.013135  0.999655 -0.998620 -0.994484   \n",
       "14  0.922618 -0.702448  0.013135  0.999655 -0.998620 -0.994484 -0.977998   \n",
       "\n",
       "           7         8         9         y  \n",
       "10  0.999655 -0.998620 -0.994484 -0.977998  \n",
       "11 -0.998620 -0.994484 -0.977998 -0.912959  \n",
       "12 -0.994484 -0.977998 -0.912959 -0.666990  \n",
       "13 -0.977998 -0.912959 -0.666990  0.110249  \n",
       "14 -0.912959 -0.666990  0.110249  0.975690  "
      ]
     },
     "execution_count": 6,
     "metadata": {},
     "output_type": "execute_result"
    }
   ],
   "source": [
    "teste.head()"
   ]
  },
  {
   "cell_type": "code",
   "execution_count": null,
   "metadata": {},
   "outputs": [],
   "source": []
  }
 ],
 "metadata": {
  "kernelspec": {
   "display_name": "Python 3",
   "language": "python",
   "name": "python3"
  },
  "language_info": {
   "codemirror_mode": {
    "name": "ipython",
    "version": 3
   },
   "file_extension": ".py",
   "mimetype": "text/x-python",
   "name": "python",
   "nbconvert_exporter": "python",
   "pygments_lexer": "ipython3",
   "version": "3.5.2"
  }
 },
 "nbformat": 4,
 "nbformat_minor": 2
}
