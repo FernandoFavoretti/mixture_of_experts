{
 "cells": [
  {
   "cell_type": "code",
   "execution_count": 54,
   "metadata": {},
   "outputs": [],
   "source": [
    "import pandas as pd"
   ]
  },
  {
   "cell_type": "code",
   "execution_count": 55,
   "metadata": {},
   "outputs": [],
   "source": [
    "df = pd.read_csv('data/treinamento-1.txt', header=None)"
   ]
  },
  {
   "cell_type": "code",
   "execution_count": 56,
   "metadata": {},
   "outputs": [],
   "source": [
    "def create_lag(df, num_lags):\n",
    "    #cria lag\n",
    "    #o lag criado gera espacos vazios na tabela\n",
    "    df = pd.concat([df.shift(lag) for lag in range(0,num_lags+1)],axis=1)\n",
    "    #apagamos os espacos vazioes\n",
    "    df = df.dropna()\n",
    "    #damos nomes para as colunas possibilitando ordenacao\n",
    "    df.columns = ['xlag_{}'.format(lag) for lag in range(0,num_lags+1)]\n",
    "    #invertemos a ordem dos nomes\n",
    "    df.columns = df.columns[::-1]\n",
    "    #invertemos a ordem das colunas\n",
    "    df = df[sorted(df.columns.values)]\n",
    "    #atribuimos a ultima coluna o nome de y\n",
    "    df.columns.values[-1] = 'y'\n",
    "    return df"
   ]
  }
 ],
 "metadata": {
  "kernelspec": {
   "display_name": "Python 3",
   "language": "python",
   "name": "python3"
  },
  "language_info": {
   "codemirror_mode": {
    "name": "ipython",
    "version": 3
   },
   "file_extension": ".py",
   "mimetype": "text/x-python",
   "name": "python",
   "nbconvert_exporter": "python",
   "pygments_lexer": "ipython3",
   "version": "3.5.2"
  }
 },
 "nbformat": 4,
 "nbformat_minor": 2
}
