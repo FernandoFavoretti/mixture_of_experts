{
 "cells": [
  {
   "cell_type": "code",
   "execution_count": 529,
   "metadata": {},
   "outputs": [],
   "source": [
    "x = np.arange(6)"
   ]
  },
  {
   "cell_type": "code",
   "execution_count": 530,
   "metadata": {},
   "outputs": [
    {
     "data": {
      "text/plain": [
       "array([0, 1, 2, 3, 4, 5])"
      ]
     },
     "execution_count": 530,
     "metadata": {},
     "output_type": "execute_result"
    }
   ],
   "source": [
    "x"
   ]
  },
  {
   "cell_type": "code",
   "execution_count": 501,
   "metadata": {},
   "outputs": [],
   "source": [
    "import numpy as np\n",
    "class Expert():\n",
    "\n",
    "    def sigmoid(self, x):\n",
    "        return 1 / (1 + np.exp(-x))\n",
    "\n",
    "    def sigmoid_derivativa(self, x):\n",
    "        return self.sigmoid(x) * (1 - self.sigmoid(x))\n",
    "\n",
    "    def tan_hiperbolica(self, x):\n",
    "        #from https://alexander-wong.com/post/neural-networks-and-deep-learning-week3/\n",
    "        return (np.exp(x) - np.exp(-x))/(np.exp(x) + np.exp(-x))\n",
    "\n",
    "    def tan_hiperbolica_derivativa(self, x):\n",
    "        #from https://alexander-wong.com/post/neural-networks-and-deep-learning-week3/\n",
    "        return 1 - self.tan_hiperbolica(x)**2\n",
    "    \n",
    "    def softmax(self,x):\n",
    "        e_x = np.exp(x - np.max(x))\n",
    "        return e_x / e_x.sum()\n",
    "    \n",
    "    def softmax_derivativa(self,x):\n",
    "        '''\n",
    "        Derivativa funcao de softmax\n",
    "        '''\n",
    "        x = np.asarray(x)\n",
    "        elem_matrix = []\n",
    "        for elem in x:\n",
    "            position_array = []\n",
    "            for i in range(0,len(elem)):\n",
    "                elem_i = []\n",
    "                for j in range(0,len(elem)):\n",
    "                    if i == j:\n",
    "                        elem_i.append(elem[i] * (1-elem[i]))\n",
    "                    else:\n",
    "                        elem_i.append(elem[i] * elem[j])\n",
    "                position_array.append(np.sum(elem_i))\n",
    "            elem_matrix.append(position_array)\n",
    "        return elem_matrix\n",
    "    \n",
    "    \n",
    "    def __init__(self,ne,nh,ns,g_h,g_o):\n",
    "        '''\n",
    "        ne = numero de neuronios entradas\n",
    "        nh = numero neuronios hidden layer\n",
    "        ns = numero de neuronios saida\n",
    "        \n",
    "        As funcoes de ativacao sao denotadas por\n",
    "        g_h = funcao de ativacao camada escondida\n",
    "        g_o = funcao de ativacao camada de saida\n",
    "        \n",
    "        e podem receber as seguintes entradas\n",
    "        'sigmoid', 'tan_h', 'softmax'\n",
    "        '''\n",
    "        self.W1=np.random.uniform(size=(ne,nh))\n",
    "        self.b1=np.random.uniform(size=(1,nh))\n",
    "        self.W2=np.random.uniform(size=(nh,ns))\n",
    "        self.b2=np.random.uniform(size=(1,ns))\n",
    "        self.ghidden = g_h\n",
    "        self.gout = g_o\n",
    "        \n",
    "    def executa_funcao_ativacao(self, tipo, x, derivativa=False):\n",
    "        if tipo == 'sigmoid':\n",
    "            if derivativa:\n",
    "                return self.sigmoid_derivativa(x)\n",
    "            else:\n",
    "                return self.sigmoid(x)\n",
    "        elif tipo == 'tan_h':\n",
    "            if derivativa:\n",
    "                return self.tan_hiperbolica_derivativa(x)\n",
    "            else:\n",
    "                return self.tan_hiperbolica(x)\n",
    "        elif tipo == 'softmax':\n",
    "            if derivativa:\n",
    "                return self.softmax_derivativa(x)\n",
    "            else:\n",
    "                return self.softmax(x)\n",
    "        elif tipo == 'linear'\n",
    "            if derivatica:\n",
    "                return np.ones(x.shape)\n",
    "            else\n",
    "                return x\n",
    "    \n",
    "    def train(self, max_epoch, alpha, X, y, plot=False):\n",
    "        eqm = []\n",
    "        for epoch in range(1,max_epoch):\n",
    "            #Forward Propogation\n",
    "            #hidden\n",
    "            a1=np.dot(X,self.W1) + self.b1\n",
    "            z1 = self.executa_funcao_ativacao(self.ghidden, a1)\n",
    "            #saida\n",
    "            a2=np.dot(z1,self.W2)+ self.b2\n",
    "            z2 = self.executa_funcao_ativacao(self.gout, a2)\n",
    "            #Calculo do erro e eqm\n",
    "            erro_epoca = y-z2\n",
    "            _eqm =  1.0/len(y) * np.sum(np.sum(np.square(erro_epoca), axis=0))\n",
    "            eqm.append(_eqm)\n",
    "            \n",
    "            #Backpropagation\n",
    "            delta_output = self.executa_funcao_ativacao(self.gout, z2, derivativa=True)\n",
    "            d_z2 = erro_epoca * delta_output\n",
    "                \n",
    "            erro_hidden = d_z2.dot(self.W2.T) * (1/len(X))\n",
    "                        \n",
    "            delta_hidden = self.executa_funcao_ativacao(self.ghidden,z1,derivativa=True)\n",
    "            d_z1 = erro_hidden * delta_hidden * (1/len(X))\n",
    "            \n",
    "            #Atualiza pesos\n",
    "            self.W2 += z1.T.dot(d_z2) * alpha\n",
    "            self.b2 += np.sum(d_z2, axis=0,keepdims=True) * alpha\n",
    "            self.W1 += X.T.dot(d_z1) * alpha\n",
    "            self.b1 += np.sum(d_z1, axis=0,keepdims=True) * alpha\n",
    "\n",
    "        if plot:       \n",
    "            import matplotlib.pyplot as plt\n",
    "            plt.plot(eqm)\n",
    "            plt.show()\n",
    "            \n",
    "\n",
    "        "
   ]
  },
  {
   "cell_type": "code",
   "execution_count": 502,
   "metadata": {},
   "outputs": [],
   "source": [
    "#Validando com o XOR"
   ]
  },
  {
   "cell_type": "code",
   "execution_count": 507,
   "metadata": {},
   "outputs": [],
   "source": [
    "#Input array\n",
    "X=np.array([[1,0,1,0],[1,0,1,1],[0,1,0,1]])\n",
    "\n",
    "#Output\n",
    "y=np.array([[1],[1],[0]])"
   ]
  },
  {
   "cell_type": "code",
   "execution_count": 526,
   "metadata": {},
   "outputs": [],
   "source": [
    "#Variable initialization\n",
    "max_epocas=1000\n",
    "alpha=0.1 #Setting learning rate\n",
    "ne = X.shape[1] #numero de features no dataset\n",
    "nh = 6 #numero neuronios hidden\n",
    "ns = 1 #numero neuronios saida"
   ]
  },
  {
   "cell_type": "code",
   "execution_count": 527,
   "metadata": {},
   "outputs": [],
   "source": [
    "ep =Expert(ne,nh,ns,g_h='softmax',g_o='sigmoid')"
   ]
  },
  {
   "cell_type": "code",
   "execution_count": 528,
   "metadata": {},
   "outputs": [
    {
     "data": {
      "image/png": "[encoded data removed]",
      "text/plain": [
       "<matplotlib.figure.Figure at 0x7fb183ff2990>"
      ]
     },
     "metadata": {},
     "output_type": "display_data"
    }
   ],
   "source": [
    "ep.train(max_epocas, alpha, X, y, plot=True)"
   ]
  },
  {
   "cell_type": "code",
   "execution_count": null,
   "metadata": {},
   "outputs": [],
   "source": []
  },
  {
   "cell_type": "code",
   "execution_count": null,
   "metadata": {},
   "outputs": [],
   "source": []
  }
 ],
 "metadata": {
  "kernelspec": {
   "display_name": "Python 2",
   "language": "python",
   "name": "python2"
  },
  "language_info": {
   "codemirror_mode": {
    "name": "ipython",
    "version": 2
   },
   "file_extension": ".py",
   "mimetype": "text/x-python",
   "name": "python",
   "nbconvert_exporter": "python",
   "pygments_lexer": "ipython2",
   "version": "2.7.12"
  }
 },
 "nbformat": 4,
 "nbformat_minor": 2
}
