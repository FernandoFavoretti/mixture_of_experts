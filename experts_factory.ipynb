{
 "cells": [
  {
   "cell_type": "code",
   "execution_count": 61,
   "metadata": {},
   "outputs": [],
   "source": [
    "import numpy as np\n",
    "\n",
    "def sigmoid(x):\n",
    "    return 1 / (1 + np.exp(-x))\n",
    "    \n",
    "def derivativa_sigmoid(x):\n",
    "    return x * (1 - x)\n",
    "\n",
    "class expert():\n",
    "    \n",
    "    def __init__(self,n_input,n_hidden,n_output):\n",
    "        self.W1 = np.random.normal(0,1/np.sqrt(2),size=[n_hidden,n_input])\n",
    "        self.W2 = np.random.normal(0,1/np.sqrt(2),size=[n_output,n_hidden])\n",
    "        self.b1 = np.zeros((n_hidden,1))\n",
    "        self.b2 = np.zeros((n_output,1))\n",
    "    \n",
    "    def train(self, max_epoch, lerning_rate, X, y):\n",
    "        #m represent o numero de samples\n",
    "        m = X.shape[0]\n",
    "\n",
    "        eqm = []\n",
    "        for epoch in range(1,max_epoch):\n",
    "            #calcula feed forward\n",
    "            z1 = np.dot(self.W1,X.T)+self.b1 \n",
    "            a1 = sigmoid(z1)\n",
    "            z2 = np.dot(self.W2,a1)+self.b2  #Shape1,4\n",
    "            a2 = sigmoid(z2)   #Shape1,4\n",
    "            \n",
    "            #calcula erro\n",
    "            erro = np.subtract(a2,y.T)\n",
    "            #Calcula eqm e append no vetor\n",
    "            _eqm =  1.0/len(y) * np.sum(np.sum(np.square(erro), axis=0))\n",
    "            eqm.append(_eqm)\n",
    "            \n",
    "            #BACK PROPAGATION\n",
    "            dz2 = a2-y.T  #SHAPE 1,4 ---- out-target\n",
    "        #     print('dz2',dz2)\n",
    "            dW2 = np.dot(dz2,a1.T)/m #SHAPE 1,2  \n",
    "        #     print('dW2',dW2)\n",
    "            db2 = np.sum(dz2,axis=1,keepdims=True)/m\n",
    "        #     print('db2',db2)\n",
    "            dz1 = np.multiply(np.dot(self.W2.T,dz2),derivativa_sigmoid(z1))  #SHAPE 2,4\n",
    "        #     print('dz1',dz1)\n",
    "            dW1 = np.dot(dz1,X)/m #SHAPE 2,2\n",
    "        #     print('dW1',dW1)\n",
    "            db1 = np.sum(dz1,axis=1,keepdims=True)/m\n",
    "        #     print('db1',db1)\n",
    "            \n",
    "            #atualiza pesos\n",
    "            self.W2 = self.W2 - learning_rate*dW2\n",
    "            self.W1 = self.W1 - learning_rate*dW1\n",
    "            self.b2 = self.b2 - learning_rate*db2\n",
    "            self.b1 = self.b1 - learning_rate*db1\n",
    "        \n",
    "        import matplotlib.pyplot as plt\n",
    "        plt.plot(eqm)\n",
    "        plt.show()\n",
    "            \n",
    "\n",
    "        "
   ]
  },
  {
   "cell_type": "code",
   "execution_count": 62,
   "metadata": {},
   "outputs": [],
   "source": [
    "import numpy as np\n",
    "import matplotlib.pyplot as plt\n",
    "%matplotlib inline"
   ]
  },
  {
   "cell_type": "code",
   "execution_count": 63,
   "metadata": {},
   "outputs": [],
   "source": [
    "# Create the training data for XOR.\n",
    "data = np.array([[0,0,0],[1,0,1],[1,1,0],[0,1,1]])\n",
    "#First two columns are the inputs,3rd Column consists of the labels\n",
    "Y_train = data[:,2].reshape(data.shape[0],1)\n",
    "X_train = data[:,:2]\n",
    "\n",
    "X = X_train\n",
    "y = Y_train\n",
    "learning_rate = 0.05"
   ]
  },
  {
   "cell_type": "code",
   "execution_count": 64,
   "metadata": {},
   "outputs": [],
   "source": [
    "X = X_train\n",
    "y = Y_train\n",
    "\n",
    "n_input = 2\n",
    "n_hidden = 2\n",
    "n_output=1\n",
    "iterations = 1000\n",
    "\n",
    "m = X.shape[0]# m is the number of training samples\n",
    "\n",
    "learning_rate = 0.5"
   ]
  },
  {
   "cell_type": "code",
   "execution_count": 65,
   "metadata": {},
   "outputs": [],
   "source": [
    "ep =expert(n_input,n_hidden,n_output)"
   ]
  },
  {
   "cell_type": "code",
   "execution_count": 66,
   "metadata": {},
   "outputs": [
    {
     "name": "stderr",
     "output_type": "stream",
     "text": [
      "/home/favoretti/.local/lib/python2.7/site-packages/ipykernel_launcher.py:7: RuntimeWarning: overflow encountered in multiply\n",
      "  import sys\n"
     ]
    },
    {
     "data": {
      "image/png": "[encoded data removed]",
      "text/plain": [
       "<matplotlib.figure.Figure at 0x7fead454cdd0>"
      ]
     },
     "metadata": {},
     "output_type": "display_data"
    }
   ],
   "source": [
    "ep.train(2000, learning_rate, X, y)"
   ]
  },
  {
   "cell_type": "code",
   "execution_count": null,
   "metadata": {},
   "outputs": [],
   "source": []
  }
 ],
 "metadata": {
  "kernelspec": {
   "display_name": "Python 2",
   "language": "python",
   "name": "python2"
  },
  "language_info": {
   "codemirror_mode": {
    "name": "ipython",
    "version": 2
   },
   "file_extension": ".py",
   "mimetype": "text/x-python",
   "name": "python",
   "nbconvert_exporter": "python",
   "pygments_lexer": "ipython2",
   "version": "2.7.12"
  }
 },
 "nbformat": 4,
 "nbformat_minor": 2
}
