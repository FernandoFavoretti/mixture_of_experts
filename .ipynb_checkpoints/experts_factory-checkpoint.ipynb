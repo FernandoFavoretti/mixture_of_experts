{
 "cells": [
  {
   "cell_type": "code",
   "execution_count": 131,
   "metadata": {},
   "outputs": [],
   "source": [
    "import numpy as np\n",
    "\n",
    "def sigmoid(x):\n",
    "    return 1 / (1 + np.exp(-x))\n",
    "    \n",
    "def derivativa_sigmoid(x):\n",
    "    return x * (1 - x)\n",
    "\n",
    "class expert():\n",
    "    \n",
    "    def __init__(self,ne,nh,ns):\n",
    "        self.W1=np.random.uniform(size=(inputlayer_neurons,hiddenlayer_neurons))\n",
    "        self.b1=np.random.uniform(size=(1,hiddenlayer_neurons))\n",
    "        self.W2=np.random.uniform(size=(hiddenlayer_neurons,output_neurons))\n",
    "        self.b2=np.random.uniform(size=(1,output_neurons))\n",
    "    \n",
    "    def train(self, max_epoch, alpha, X, y):\n",
    "        #m represent o numero de samples\n",
    "        m = X.shape[0]\n",
    "\n",
    "        eqm = []\n",
    "        for epoch in range(1,max_epoch):\n",
    "            #Forward Propogation\n",
    "            #hidden\n",
    "            a1=np.dot(X,self.W1) + self.b1\n",
    "            z1 = sigmoid(a1)\n",
    "            #saida\n",
    "            a2=np.dot(z1,self.W2)+ self.b2\n",
    "            z2 = sigmoid(a2)\n",
    "\n",
    "            #Calculo do erro e eqm\n",
    "            erro_epoca = y-z2\n",
    "            _eqm =  1.0/len(y) * np.sum(np.sum(np.square(erro_epoca), axis=0))\n",
    "            eqm.append(_eqm)\n",
    "            \n",
    "            #Backpropagation\n",
    "            delta_output = derivatives_sigmoid(z2)\n",
    "            delta_hidden = derivatives_sigmoid(z1)\n",
    "            d_z2 = erro_epoca * delta_output\n",
    "            erro_hidden = d_z2.dot(self.W2.T)\n",
    "            d_z1 = erro_hidden * delta_hidden\n",
    "            \n",
    "            #Atualiza pesos\n",
    "            self.W2 += z1.T.dot(d_z2) * alpha\n",
    "            self.b2 += np.sum(d_z2, axis=0,keepdims=True) * alpha\n",
    "            self.W1 += X.T.dot(d_z1) * alpha\n",
    "            self.b1 += np.sum(d_z1, axis=0,keepdims=True) * alpha\n",
    "\n",
    "                    \n",
    "        import matplotlib.pyplot as plt\n",
    "        plt.plot(eqm)\n",
    "        plt.show()\n",
    "            \n",
    "\n",
    "        "
   ]
  },
  {
   "cell_type": "code",
   "execution_count": 135,
   "metadata": {},
   "outputs": [],
   "source": [
    "#Variable initialization\n",
    "max_epocas=5000 \n",
    "alpha=0.1 #Setting learning rate\n",
    "ne = X.shape[1] #numero de features no dataset\n",
    "nh = 3 #numero neuronios hidden\n",
    "ns = 1 #numero neuronios saida"
   ]
  },
  {
   "cell_type": "code",
   "execution_count": 136,
   "metadata": {},
   "outputs": [],
   "source": [
    "ep =expert(ne,nh,ns)"
   ]
  },
  {
   "cell_type": "code",
   "execution_count": 138,
   "metadata": {},
   "outputs": [
    {
     "data": {
      "image/png": "[encoded data removed]",
      "text/plain": [
       "<matplotlib.figure.Figure at 0x7f3521f23d50>"
      ]
     },
     "metadata": {},
     "output_type": "display_data"
    }
   ],
   "source": [
    "ep.train(max_epocas, learning_rate, X, y)"
   ]
  },
  {
   "cell_type": "code",
   "execution_count": null,
   "metadata": {},
   "outputs": [],
   "source": []
  }
 ],
 "metadata": {
  "kernelspec": {
   "display_name": "Python 2",
   "language": "python",
   "name": "python2"
  },
  "language_info": {
   "codemirror_mode": {
    "name": "ipython",
    "version": 2
   },
   "file_extension": ".py",
   "mimetype": "text/x-python",
   "name": "python",
   "nbconvert_exporter": "python",
   "pygments_lexer": "ipython2",
   "version": "2.7.12"
  }
 },
 "nbformat": 4,
 "nbformat_minor": 2
}
