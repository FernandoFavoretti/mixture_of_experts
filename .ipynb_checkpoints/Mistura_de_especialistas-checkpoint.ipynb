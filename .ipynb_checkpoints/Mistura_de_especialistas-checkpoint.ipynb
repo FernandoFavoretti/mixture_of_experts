{
 "cells": [
  {
   "cell_type": "code",
   "execution_count": 9,
   "metadata": {},
   "outputs": [],
   "source": [
    "import utils\n",
    "import pandas as pd\n",
    "import importlib\n",
    "import expert_factory\n",
    "importlib.reload(expert_factory)\n",
    "import numpy as np"
   ]
  },
  {
   "cell_type": "code",
   "execution_count": 10,
   "metadata": {},
   "outputs": [],
   "source": [
    "def calcula_verossimilhanca(num_experts, y_true, output_experts, output_gating):\n",
    "    py = np.zeros(shape=(num_experts,len(y_true)))\n",
    "    for expert in range(0,num_experts):\n",
    "        for index,y in enumerate(y_true):\n",
    "            #calcula a diff entre o real e o que o cada expert previu\n",
    "            #diff = Ytr(j,:)-Yaux(j,:);\n",
    "            diff = y - output_experts[index,expert]\n",
    "            #Py(j,i)=exp(-diff*diff'/(2*var(i)));   \n",
    "            py[expert,index] = np.exp(np.dot(-diff, diff.T) / (2))\n",
    "    # Likelihood= sum(log(sum(Yg.*Py,2)));\n",
    "    #haux = Yg.*Py;\n",
    "    haux = np.multiply(output_gating, py.T)\n",
    "    likelihood = np.sum(np.log(np.sum(haux,axis=0)))\n",
    "    return likelihood,haux       "
   ]
  },
  {
   "cell_type": "code",
   "execution_count": 11,
   "metadata": {},
   "outputs": [],
   "source": [
    "def output_final(X, gating_network, all_experts):\n",
    "    #Calcula saida do gating\n",
    "    gating_output = gating_network.feedforward(X)[-1]\n",
    "    experts_outputs = []\n",
    "    #calcula saida do experts\n",
    "    for exp_net in all_experts:\n",
    "        experts_outputs.append(exp_net.feedforward(X)[-1].tolist())\n",
    "    #retorna o melhor expert como saida\n",
    "    final_output = []\n",
    "    for index_gate, result in enumerate(np.argmax(gating_output,axis=1)):\n",
    "        final_output.append(experts_outputs[result][index_gate])\n",
    "    return final_output\n",
    "        \n",
    "\n",
    "def maximiza_gating(gating_network,max_epocas_gating, alpha_gating, X_train, h, X_val, y_val):\n",
    "    gating_network.train(max_epocas_gating, alpha_gating, X_train, h, X_val, y_val)\n",
    "    \n",
    "def maximiza_expert(expert_network,max_epocas_expert,alpha_expert, X_train, h, X_val, y_val):\n",
    "    expert_network.train(max_epocas_expert, alpha_expert, X_train, h, X_val, y_val)"
   ]
  },
  {
   "cell_type": "code",
   "execution_count": 12,
   "metadata": {},
   "outputs": [
    {
     "name": "stdout",
     "output_type": "stream",
     "text": [
      "==============\n",
      "Tamanho total 985\n",
      "Tamanho treino 689\n",
      "Tamanho teste 197\n",
      "Tamanho validacao 99\n",
      "==============\n"
     ]
    }
   ],
   "source": [
    "#Lendo o dadoa\n",
    "df = pd.read_csv('data/treinamento-1.txt', header=None)\n",
    "\n",
    "#normalizando o dado\n",
    "df = utils.normalize_data(df)\n",
    "num_lags = 15\n",
    "\n",
    "#criando Lag\n",
    "lagged_data = utils.create_lag(df, num_lags)\n",
    "lagged_data = lagged_data.reset_index(drop=True)\n",
    "\n",
    "X = lagged_data.drop(['y'],axis=1)\n",
    "y = lagged_data['y']\n",
    "\n",
    "#Criando conjunto de dados\n",
    "fracao_dados_para_treino = 0.7\n",
    "fracao_dados_para_teste = 0.2\n",
    "X_train,y_train,X_test,y_test,X_val,y_val = utils.treino_teste_validacao(X,y, frac_train=fracao_dados_para_treino, frac_test=fracao_dados_para_teste)"
   ]
  },
  {
   "cell_type": "code",
   "execution_count": 14,
   "metadata": {},
   "outputs": [],
   "source": [
    "num_experts = 4\n",
    "all_ne = X_train.shape[1]\n",
    "## Vamos criar alguns experts\n",
    "all_experts = []\n",
    "exp1 = expert_factory.Expert(ne=all_ne,nh=5,ns=1,g_h='linear',g_o='sigmoid')\n",
    "exp2 = expert_factory.Expert(ne=all_ne,nh=3,ns=1,g_h='linear',g_o='linear')\n",
    "exp3 = expert_factory.Expert(ne=all_ne,nh=3,ns=1,g_h='tan_h',g_o='sigmoid')\n",
    "exp4 = expert_factory.Expert(ne=all_ne,nh=3,ns=1,g_h='sigmoid',g_o='sigmoid')\n",
    "\n",
    "all_experts.append(exp1)\n",
    "all_experts.append(exp2)\n",
    "all_experts.append(exp3)\n",
    "all_experts.append(exp4)"
   ]
  },
  {
   "cell_type": "code",
   "execution_count": 15,
   "metadata": {},
   "outputs": [],
   "source": [
    "#Criando rede gating   \n",
    "gating_ne = X_train.shape[1]\n",
    "gating_nh = 5\n",
    "gating_ns = num_experts\n",
    "gating_network = expert_factory.Expert(gating_ne,gating_nh,gating_ns, g_h='sigmoid', g_o='softmax')"
   ]
  },
  {
   "cell_type": "code",
   "execution_count": 18,
   "metadata": {},
   "outputs": [
    {
     "name": "stdout",
     "output_type": "stream",
     "text": [
      "[[ nan  nan  nan  nan]\n",
      " [ nan  nan  nan  nan]\n",
      " [ nan  nan  nan  nan]\n",
      " ..., \n",
      " [ nan  nan  nan  nan]\n",
      " [ nan  nan  nan  nan]\n",
      " [ nan  nan  nan  nan]]\n",
      "Treinamento encerrado em 1 epocas\n",
      "Treinamento encerrado em 1 epocas\n",
      "Treinamento encerrado em 1 epocas\n",
      "Treinamento encerrado em 1 epocas\n",
      "Treinamento encerrado em 1 epocas\n"
     ]
    }
   ],
   "source": [
    "likelihood = 0\n",
    "old_likelihood = -np.inf\n",
    "iters = 0\n",
    "max_iters = 1000\n",
    "max_epocas_gating = 1\n",
    "alpha_gating = 0.5\n",
    "while abs(likelihood-old_likelihood) > 1e-3 and iters < max_iters:\n",
    "    iters += 1\n",
    "    #calcula a saida para cada rede\n",
    "    #A funcao retorna 4 varaiveis, queremos apenas a ultima que representa o output (por isso o [-1])\n",
    "    output_gating = gating_network.feedforward(X_train)[-1]\n",
    "    output_experts = np.matrix([np.ravel(expert.feedforward(X_train)[-1]).tolist() for expert in all_experts]).T\n",
    "    print(output_experts)\n",
    "    #Agora que temos a saida comecamos com a funcao de EM\n",
    "    old_likelihood = likelihood\n",
    "    #Passo E (Expectation)\n",
    "    #Com os parametros atuais calculamos calculamos a 'expectation' posterior para cada expert\n",
    "    likelihood,haux_train = calcula_verossimilhanca(num_experts, y_train, output_experts, output_gating)\n",
    "    #likelihood_val,haux_val = calcula_verossimilhanca(num_experts, y_train, output_experts, output_gating, matriz_covariancia)\n",
    "    #h = haux./(sum(haux,2)*ones(1,m));\n",
    "    h = np.divide(haux_train, np.sum(haux_train,axis=0))\n",
    "    #Passo M (Maximizacao)\n",
    "    maximiza_gating(gating_network,max_epocas_gating, alpha_gating, X_train, h, X_val, y_val)\n",
    "    #Itera por cada expert o treinando com seu respectivo h\n",
    "    for exp_index, expert in enumerate(all_experts):\n",
    "        output_individual_exp = []\n",
    "        for item in h[:,0]:\n",
    "            output_individual_exp.append([item])\n",
    "        maximiza_expert(expert,max_epocas_gating,alpha_gating, X_train, output_individual_exp, X_val, y_val)\n",
    "    saida_final = output_final(X_train, gating_network, all_experts)\n",
    "    erro = saida_final - y_train \n",
    "    loss = np.square(erro).mean()\n"
   ]
  },
  {
   "cell_type": "code",
   "execution_count": 51,
   "metadata": {},
   "outputs": [],
   "source": [
    "teste = output_final(X_train, gating_network, all_experts)"
   ]
  }
 ],
 "metadata": {
  "kernelspec": {
   "display_name": "Python 3",
   "language": "python",
   "name": "python3"
  },
  "language_info": {
   "codemirror_mode": {
    "name": "ipython",
    "version": 3
   },
   "file_extension": ".py",
   "mimetype": "text/x-python",
   "name": "python",
   "nbconvert_exporter": "python",
   "pygments_lexer": "ipython3",
   "version": "3.5.2"
  }
 },
 "nbformat": 4,
 "nbformat_minor": 2
}
